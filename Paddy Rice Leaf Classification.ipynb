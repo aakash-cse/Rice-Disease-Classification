{
 "cells": [
  {
   "cell_type": "code",
   "execution_count": 1,
   "metadata": {
    "ExecuteTime": {
     "end_time": "2020-10-26T05:59:21.559251Z",
     "start_time": "2020-10-26T05:59:18.390591Z"
    }
   },
   "outputs": [],
   "source": [
    "from tensorflow.keras.layers import Input,Lambda,Dense,Flatten\n",
    "from tensorflow.keras.models import Model\n",
    "from tensorflow.keras.preprocessing import image\n",
    "from tensorflow.keras.preprocessing.image import ImageDataGenerator\n",
    "from tensorflow.keras.models import Sequential\n",
    "import numpy as np\n",
    "from glob import glob\n",
    "import matplotlib.pyplot as plt"
   ]
  },
  {
   "cell_type": "code",
   "execution_count": 2,
   "metadata": {
    "ExecuteTime": {
     "end_time": "2020-10-26T05:59:21.565057Z",
     "start_time": "2020-10-26T05:59:21.561051Z"
    }
   },
   "outputs": [],
   "source": [
    "IMAGE_SIZE = [224,224]\n",
    "\n",
    "train_path = \"dataset/\""
   ]
  },
  {
   "cell_type": "code",
   "execution_count": 3,
   "metadata": {
    "ExecuteTime": {
     "end_time": "2020-10-26T05:59:21.875542Z",
     "start_time": "2020-10-26T05:59:21.567033Z"
    }
   },
   "outputs": [
    {
     "name": "stderr",
     "output_type": "stream",
     "text": [
      "Using TensorFlow backend.\n"
     ]
    },
    {
     "name": "stdout",
     "output_type": "stream",
     "text": [
      "Found 102 images belonging to 3 classes.\n",
      "Found 15 images belonging to 3 classes.\n"
     ]
    }
   ],
   "source": [
    "from keras.preprocessing.image import ImageDataGenerator\n",
    "\n",
    "train_datagen = ImageDataGenerator(rescale=1./255,horizontal_flip=True,zoom_range=0.2,validation_split=0.15)\n",
    "\n",
    "training_set = train_datagen.flow_from_directory(\n",
    "        train_path,target_size=(224,224), batch_size=32,class_mode='categorical',\n",
    "        subset='training')\n",
    "\n",
    "validation_set = train_datagen.flow_from_directory(\n",
    "        train_path,target_size=(224,224), batch_size=32,class_mode='categorical',shuffle = True,\n",
    "        subset='validation')"
   ]
  },
  {
   "cell_type": "code",
   "execution_count": 4,
   "metadata": {
    "ExecuteTime": {
     "end_time": "2020-10-26T05:59:24.169877Z",
     "start_time": "2020-10-26T05:59:21.877504Z"
    }
   },
   "outputs": [],
   "source": [
    "from tensorflow.keras.applications import VGG19\n",
    "from tensorflow.keras.layers import GlobalAveragePooling2D,Dropout\n",
    "\n",
    "## We are initialising the input shape with 3 channels rgb and weights as imagenet and include_top as False will make to use our own custom inputs\n",
    "\n",
    "mv = VGG19(input_shape=IMAGE_SIZE+[3],weights='imagenet',include_top=False)"
   ]
  },
  {
   "cell_type": "code",
   "execution_count": 5,
   "metadata": {
    "ExecuteTime": {
     "end_time": "2020-10-26T05:59:24.175850Z",
     "start_time": "2020-10-26T05:59:24.171883Z"
    }
   },
   "outputs": [],
   "source": [
    "for layers in mv.layers:\n",
    "    layers.trainable = False"
   ]
  },
  {
   "cell_type": "code",
   "execution_count": 6,
   "metadata": {
    "ExecuteTime": {
     "end_time": "2020-10-26T05:59:24.212751Z",
     "start_time": "2020-10-26T05:59:24.178844Z"
    }
   },
   "outputs": [],
   "source": [
    "x = Flatten()(mv.output)\n",
    "prediction = Dense(3,activation='softmax')(x)"
   ]
  },
  {
   "cell_type": "code",
   "execution_count": 7,
   "metadata": {
    "ExecuteTime": {
     "end_time": "2020-10-26T05:59:24.227711Z",
     "start_time": "2020-10-26T05:59:24.213749Z"
    }
   },
   "outputs": [
    {
     "name": "stdout",
     "output_type": "stream",
     "text": [
      "Model: \"model\"\n",
      "_________________________________________________________________\n",
      "Layer (type)                 Output Shape              Param #   \n",
      "=================================================================\n",
      "input_1 (InputLayer)         [(None, 224, 224, 3)]     0         \n",
      "_________________________________________________________________\n",
      "block1_conv1 (Conv2D)        (None, 224, 224, 64)      1792      \n",
      "_________________________________________________________________\n",
      "block1_conv2 (Conv2D)        (None, 224, 224, 64)      36928     \n",
      "_________________________________________________________________\n",
      "block1_pool (MaxPooling2D)   (None, 112, 112, 64)      0         \n",
      "_________________________________________________________________\n",
      "block2_conv1 (Conv2D)        (None, 112, 112, 128)     73856     \n",
      "_________________________________________________________________\n",
      "block2_conv2 (Conv2D)        (None, 112, 112, 128)     147584    \n",
      "_________________________________________________________________\n",
      "block2_pool (MaxPooling2D)   (None, 56, 56, 128)       0         \n",
      "_________________________________________________________________\n",
      "block3_conv1 (Conv2D)        (None, 56, 56, 256)       295168    \n",
      "_________________________________________________________________\n",
      "block3_conv2 (Conv2D)        (None, 56, 56, 256)       590080    \n",
      "_________________________________________________________________\n",
      "block3_conv3 (Conv2D)        (None, 56, 56, 256)       590080    \n",
      "_________________________________________________________________\n",
      "block3_conv4 (Conv2D)        (None, 56, 56, 256)       590080    \n",
      "_________________________________________________________________\n",
      "block3_pool (MaxPooling2D)   (None, 28, 28, 256)       0         \n",
      "_________________________________________________________________\n",
      "block4_conv1 (Conv2D)        (None, 28, 28, 512)       1180160   \n",
      "_________________________________________________________________\n",
      "block4_conv2 (Conv2D)        (None, 28, 28, 512)       2359808   \n",
      "_________________________________________________________________\n",
      "block4_conv3 (Conv2D)        (None, 28, 28, 512)       2359808   \n",
      "_________________________________________________________________\n",
      "block4_conv4 (Conv2D)        (None, 28, 28, 512)       2359808   \n",
      "_________________________________________________________________\n",
      "block4_pool (MaxPooling2D)   (None, 14, 14, 512)       0         \n",
      "_________________________________________________________________\n",
      "block5_conv1 (Conv2D)        (None, 14, 14, 512)       2359808   \n",
      "_________________________________________________________________\n",
      "block5_conv2 (Conv2D)        (None, 14, 14, 512)       2359808   \n",
      "_________________________________________________________________\n",
      "block5_conv3 (Conv2D)        (None, 14, 14, 512)       2359808   \n",
      "_________________________________________________________________\n",
      "block5_conv4 (Conv2D)        (None, 14, 14, 512)       2359808   \n",
      "_________________________________________________________________\n",
      "block5_pool (MaxPooling2D)   (None, 7, 7, 512)         0         \n",
      "_________________________________________________________________\n",
      "flatten (Flatten)            (None, 25088)             0         \n",
      "_________________________________________________________________\n",
      "dense (Dense)                (None, 3)                 75267     \n",
      "=================================================================\n",
      "Total params: 20,099,651\n",
      "Trainable params: 75,267\n",
      "Non-trainable params: 20,024,384\n",
      "_________________________________________________________________\n"
     ]
    }
   ],
   "source": [
    "model = Model(inputs=mv.input,outputs=prediction)\n",
    "\n",
    "model.summary()"
   ]
  },
  {
   "cell_type": "code",
   "execution_count": 8,
   "metadata": {
    "ExecuteTime": {
     "end_time": "2020-10-26T05:59:24.237684Z",
     "start_time": "2020-10-26T05:59:24.231701Z"
    }
   },
   "outputs": [],
   "source": [
    "import tensorflow as tf\n",
    "\n",
    "class myCallback(tf.keras.callbacks.Callback):\n",
    "    def on_epoch_end(self,epoch,logs={}):\n",
    "        if(logs.get('loss')<=0.05):\n",
    "            print(\"\\nEnding training\")\n",
    "            self.model.stop_training = True\n",
    "# initiating the myCallback function\n",
    "callbacks = myCallback()"
   ]
  },
  {
   "cell_type": "code",
   "execution_count": 9,
   "metadata": {
    "ExecuteTime": {
     "end_time": "2020-10-26T05:59:24.266608Z",
     "start_time": "2020-10-26T05:59:24.241674Z"
    }
   },
   "outputs": [],
   "source": [
    "## Let us compile the model with Adam optimizer and loss function categorical_crossentropy and metrics as categorical_accuracy\n",
    "from tensorflow.keras.optimizers import Adam\n",
    "model.compile(optimizer=Adam(lr=0.0001),loss='categorical_crossentropy',metrics=['categorical_accuracy'])\n"
   ]
  },
  {
   "cell_type": "code",
   "execution_count": 10,
   "metadata": {
    "ExecuteTime": {
     "end_time": "2020-10-26T06:04:43.138960Z",
     "start_time": "2020-10-26T05:59:24.268601Z"
    }
   },
   "outputs": [
    {
     "name": "stdout",
     "output_type": "stream",
     "text": [
      "Epoch 1/50\n",
      "4/4 [==============================] - 9s 2s/step - loss: 1.1757 - categorical_accuracy: 0.2941 - val_loss: 1.0793 - val_categorical_accuracy: 0.4000\n",
      "Epoch 2/50\n",
      "4/4 [==============================] - 5s 1s/step - loss: 1.0837 - categorical_accuracy: 0.4216 - val_loss: 1.0304 - val_categorical_accuracy: 0.5333\n",
      "Epoch 3/50\n",
      "4/4 [==============================] - 6s 1s/step - loss: 0.9976 - categorical_accuracy: 0.5784 - val_loss: 1.0031 - val_categorical_accuracy: 0.4667\n",
      "Epoch 4/50\n",
      "4/4 [==============================] - 5s 1s/step - loss: 1.0088 - categorical_accuracy: 0.4608 - val_loss: 1.0590 - val_categorical_accuracy: 0.4000\n",
      "Epoch 5/50\n",
      "4/4 [==============================] - 5s 1s/step - loss: 0.9343 - categorical_accuracy: 0.5784 - val_loss: 0.8862 - val_categorical_accuracy: 0.6000\n",
      "Epoch 6/50\n",
      "4/4 [==============================] - 5s 1s/step - loss: 0.9289 - categorical_accuracy: 0.5686 - val_loss: 0.8519 - val_categorical_accuracy: 0.6000\n",
      "Epoch 7/50\n",
      "4/4 [==============================] - 5s 1s/step - loss: 0.9028 - categorical_accuracy: 0.5784 - val_loss: 0.8542 - val_categorical_accuracy: 0.5333\n",
      "Epoch 8/50\n",
      "4/4 [==============================] - 5s 1s/step - loss: 0.8278 - categorical_accuracy: 0.7549 - val_loss: 0.8107 - val_categorical_accuracy: 0.6000\n",
      "Epoch 9/50\n",
      "4/4 [==============================] - 4s 1s/step - loss: 0.7976 - categorical_accuracy: 0.6667 - val_loss: 0.8106 - val_categorical_accuracy: 0.6667\n",
      "Epoch 10/50\n",
      "4/4 [==============================] - 4s 1s/step - loss: 0.7888 - categorical_accuracy: 0.6667 - val_loss: 0.7744 - val_categorical_accuracy: 0.6667\n",
      "Epoch 11/50\n",
      "4/4 [==============================] - 6s 1s/step - loss: 0.7666 - categorical_accuracy: 0.7353 - val_loss: 0.7286 - val_categorical_accuracy: 0.7333\n",
      "Epoch 12/50\n",
      "4/4 [==============================] - 6s 1s/step - loss: 0.7649 - categorical_accuracy: 0.7255 - val_loss: 0.7214 - val_categorical_accuracy: 0.7333\n",
      "Epoch 13/50\n",
      "4/4 [==============================] - 5s 1s/step - loss: 0.7323 - categorical_accuracy: 0.7157 - val_loss: 0.6483 - val_categorical_accuracy: 0.7333\n",
      "Epoch 14/50\n",
      "4/4 [==============================] - 5s 1s/step - loss: 0.6706 - categorical_accuracy: 0.7941 - val_loss: 0.7290 - val_categorical_accuracy: 0.6667\n",
      "Epoch 15/50\n",
      "4/4 [==============================] - 5s 1s/step - loss: 0.7033 - categorical_accuracy: 0.7745 - val_loss: 0.6708 - val_categorical_accuracy: 0.8000\n",
      "Epoch 16/50\n",
      "4/4 [==============================] - 6s 2s/step - loss: 0.6780 - categorical_accuracy: 0.7843 - val_loss: 0.6568 - val_categorical_accuracy: 0.8667\n",
      "Epoch 17/50\n",
      "4/4 [==============================] - 4s 1s/step - loss: 0.6351 - categorical_accuracy: 0.8627 - val_loss: 0.6011 - val_categorical_accuracy: 0.8667\n",
      "Epoch 18/50\n",
      "4/4 [==============================] - 5s 1s/step - loss: 0.6172 - categorical_accuracy: 0.8333 - val_loss: 0.6337 - val_categorical_accuracy: 0.8667\n",
      "Epoch 19/50\n",
      "4/4 [==============================] - 4s 1s/step - loss: 0.6164 - categorical_accuracy: 0.8039 - val_loss: 0.5880 - val_categorical_accuracy: 0.8000\n",
      "Epoch 20/50\n",
      "4/4 [==============================] - 4s 1s/step - loss: 0.5787 - categorical_accuracy: 0.8627 - val_loss: 0.6138 - val_categorical_accuracy: 0.8667\n",
      "Epoch 21/50\n",
      "4/4 [==============================] - 4s 1s/step - loss: 0.5797 - categorical_accuracy: 0.8922 - val_loss: 0.5600 - val_categorical_accuracy: 0.9333\n",
      "Epoch 22/50\n",
      "4/4 [==============================] - 4s 1s/step - loss: 0.5645 - categorical_accuracy: 0.8431 - val_loss: 0.5630 - val_categorical_accuracy: 0.9333\n",
      "Epoch 23/50\n",
      "4/4 [==============================] - 4s 1s/step - loss: 0.5398 - categorical_accuracy: 0.8725 - val_loss: 0.5872 - val_categorical_accuracy: 0.8000\n",
      "Epoch 24/50\n",
      "4/4 [==============================] - 4s 1s/step - loss: 0.5376 - categorical_accuracy: 0.8824 - val_loss: 0.5895 - val_categorical_accuracy: 0.8000\n",
      "Epoch 25/50\n",
      "4/4 [==============================] - 5s 1s/step - loss: 0.5310 - categorical_accuracy: 0.8627 - val_loss: 0.5733 - val_categorical_accuracy: 0.8667\n",
      "Epoch 26/50\n",
      "4/4 [==============================] - 6s 1s/step - loss: 0.4965 - categorical_accuracy: 0.9118 - val_loss: 0.6189 - val_categorical_accuracy: 0.8000\n",
      "Epoch 27/50\n",
      "4/4 [==============================] - 5s 1s/step - loss: 0.4908 - categorical_accuracy: 0.9216 - val_loss: 0.6382 - val_categorical_accuracy: 0.7333\n",
      "Epoch 28/50\n",
      "4/4 [==============================] - 5s 1s/step - loss: 0.4778 - categorical_accuracy: 0.9216 - val_loss: 0.5401 - val_categorical_accuracy: 0.8000\n",
      "Epoch 29/50\n",
      "4/4 [==============================] - 4s 1s/step - loss: 0.4918 - categorical_accuracy: 0.8824 - val_loss: 0.5003 - val_categorical_accuracy: 0.9333\n",
      "Epoch 30/50\n",
      "4/4 [==============================] - 6s 1s/step - loss: 0.4697 - categorical_accuracy: 0.9020 - val_loss: 0.6679 - val_categorical_accuracy: 0.8000\n",
      "Epoch 31/50\n",
      "4/4 [==============================] - 5s 1s/step - loss: 0.4482 - categorical_accuracy: 0.9020 - val_loss: 0.5930 - val_categorical_accuracy: 0.8667\n",
      "Epoch 32/50\n",
      "4/4 [==============================] - 4s 1s/step - loss: 0.4642 - categorical_accuracy: 0.8824 - val_loss: 0.5603 - val_categorical_accuracy: 0.8667\n",
      "Epoch 33/50\n",
      "4/4 [==============================] - 4s 1s/step - loss: 0.4480 - categorical_accuracy: 0.9216 - val_loss: 0.5424 - val_categorical_accuracy: 0.9333\n",
      "Epoch 34/50\n",
      "4/4 [==============================] - 4s 1s/step - loss: 0.4163 - categorical_accuracy: 0.9118 - val_loss: 0.5724 - val_categorical_accuracy: 0.8667\n",
      "Epoch 35/50\n",
      "4/4 [==============================] - 4s 1s/step - loss: 0.4183 - categorical_accuracy: 0.9314 - val_loss: 0.5488 - val_categorical_accuracy: 0.8667\n",
      "Epoch 36/50\n",
      "4/4 [==============================] - 6s 1s/step - loss: 0.4271 - categorical_accuracy: 0.9020 - val_loss: 0.5389 - val_categorical_accuracy: 0.8667\n",
      "Epoch 37/50\n",
      "4/4 [==============================] - 5s 1s/step - loss: 0.4275 - categorical_accuracy: 0.9314 - val_loss: 0.6343 - val_categorical_accuracy: 0.8000\n",
      "Epoch 38/50\n",
      "4/4 [==============================] - 5s 1s/step - loss: 0.3965 - categorical_accuracy: 0.9412 - val_loss: 0.5766 - val_categorical_accuracy: 0.8000\n",
      "Epoch 39/50\n",
      "4/4 [==============================] - 5s 1s/step - loss: 0.3962 - categorical_accuracy: 0.9216 - val_loss: 0.5869 - val_categorical_accuracy: 0.8000\n",
      "Epoch 40/50\n",
      "4/4 [==============================] - 4s 1s/step - loss: 0.3962 - categorical_accuracy: 0.8824 - val_loss: 0.5557 - val_categorical_accuracy: 0.8000\n",
      "Epoch 41/50\n",
      "4/4 [==============================] - 5s 1s/step - loss: 0.3644 - categorical_accuracy: 0.9314 - val_loss: 0.5838 - val_categorical_accuracy: 0.8000\n",
      "Epoch 42/50\n",
      "4/4 [==============================] - 4s 1s/step - loss: 0.3823 - categorical_accuracy: 0.9216 - val_loss: 0.5433 - val_categorical_accuracy: 0.9333\n",
      "Epoch 43/50\n",
      "4/4 [==============================] - 4s 1s/step - loss: 0.3678 - categorical_accuracy: 0.9314 - val_loss: 0.5116 - val_categorical_accuracy: 0.8667\n",
      "Epoch 44/50\n",
      "4/4 [==============================] - 6s 2s/step - loss: 0.3651 - categorical_accuracy: 0.9412 - val_loss: 0.5169 - val_categorical_accuracy: 0.8000\n",
      "Epoch 45/50\n",
      "4/4 [==============================] - 5s 1s/step - loss: 0.3547 - categorical_accuracy: 0.9314 - val_loss: 0.5438 - val_categorical_accuracy: 0.8667\n",
      "Epoch 46/50\n",
      "4/4 [==============================] - 5s 1s/step - loss: 0.3256 - categorical_accuracy: 0.9608 - val_loss: 0.5568 - val_categorical_accuracy: 0.8000\n",
      "Epoch 47/50\n",
      "4/4 [==============================] - 5s 1s/step - loss: 0.3372 - categorical_accuracy: 0.9706 - val_loss: 0.6108 - val_categorical_accuracy: 0.8000\n",
      "Epoch 48/50\n",
      "4/4 [==============================] - 4s 1s/step - loss: 0.3464 - categorical_accuracy: 0.9706 - val_loss: 0.5418 - val_categorical_accuracy: 0.8667\n",
      "Epoch 49/50\n",
      "4/4 [==============================] - 6s 1s/step - loss: 0.3296 - categorical_accuracy: 0.9608 - val_loss: 0.5623 - val_categorical_accuracy: 0.8000\n",
      "Epoch 50/50\n",
      "4/4 [==============================] - 4s 1s/step - loss: 0.3181 - categorical_accuracy: 0.9412 - val_loss: 0.4675 - val_categorical_accuracy: 0.8667\n"
     ]
    }
   ],
   "source": [
    "history = model.fit(training_set,\n",
    "                              validation_data=validation_set,\n",
    "                              epochs=50,\n",
    "                              verbose=1,\n",
    "                              steps_per_epoch=len(training_set),\n",
    "                              validation_steps=len(validation_set),\n",
    "                              callbacks = [callbacks]\n",
    "                             )"
   ]
  },
  {
   "cell_type": "code",
   "execution_count": 11,
   "metadata": {
    "ExecuteTime": {
     "end_time": "2020-10-26T06:04:43.475901Z",
     "start_time": "2020-10-26T06:04:43.140570Z"
    }
   },
   "outputs": [
    {
     "data": {
      "text/plain": [
       "<Figure size 432x288 with 0 Axes>"
      ]
     },
     "execution_count": 11,
     "metadata": {},
     "output_type": "execute_result"
    },
    {
     "data": {
      "image/png": "[encoded data removed]",
      "text/plain": [
       "<Figure size 432x288 with 1 Axes>"
      ]
     },
     "metadata": {
      "needs_background": "light"
     },
     "output_type": "display_data"
    },
    {
     "data": {
      "image/png": "[encoded data removed]",
      "text/plain": [
       "<Figure size 432x288 with 1 Axes>"
      ]
     },
     "metadata": {
      "needs_background": "light"
     },
     "output_type": "display_data"
    },
    {
     "data": {
      "text/plain": [
       "<Figure size 432x288 with 0 Axes>"
      ]
     },
     "metadata": {},
     "output_type": "display_data"
    }
   ],
   "source": [
    "acc = history.history['categorical_accuracy']\n",
    "val_acc = history.history['val_categorical_accuracy']\n",
    "\n",
    "loss = history.history['loss']\n",
    "val_loss = history.history['val_loss']\n",
    "\n",
    "epochs = range(len(acc))\n",
    "\n",
    "import matplotlib.pyplot as plt\n",
    "plt.plot(epochs,acc)\n",
    "plt.plot(epochs,val_acc)\n",
    "plt.title(\"Training and validation Accuracy\")\n",
    "plt.figure()\n",
    "\n",
    "plt.plot(epochs,loss)\n",
    "plt.plot(epochs,val_loss)\n",
    "plt.title(\"Training and validation Loss\")\n",
    "plt.figure()"
   ]
  },
  {
   "cell_type": "code",
   "execution_count": 13,
   "metadata": {
    "ExecuteTime": {
     "end_time": "2020-10-26T06:05:18.227642Z",
     "start_time": "2020-10-26T06:05:17.375557Z"
    }
   },
   "outputs": [],
   "source": [
    "model.save(\"VGG-19.h5\")"
   ]
  },
  {
   "cell_type": "code",
   "execution_count": 19,
   "metadata": {
    "ExecuteTime": {
     "end_time": "2020-10-26T06:10:02.159077Z",
     "start_time": "2020-10-26T06:09:59.679791Z"
    }
   },
   "outputs": [
    {
     "name": "stdout",
     "output_type": "stream",
     "text": [
      "[[0.0000000e+00 1.0000000e+00 1.8829944e-20]]\n"
     ]
    }
   ],
   "source": [
    "from tensorflow.keras.models import load_model\n",
    "from tensorflow.keras.preprocessing import image\n",
    "import numpy as np\n",
    "\n",
    "# dimensions of our images\n",
    "img_width, img_height = 224,224\n",
    "\n",
    "# load the model we saved\n",
    "model = load_model('VGG-19.h5')\n",
    "# predicting images\n",
    "img = image.load_img('test/DSC_0118.jpg', target_size=(img_width, img_height))\n",
    "x = image.img_to_array(img)\n",
    "x = np.expand_dims(x, axis=0)\n",
    "\n",
    "classes = model.predict(x)\n",
    "print (classes)"
   ]
  },
  {
   "cell_type": "code",
   "execution_count": null,
   "metadata": {},
   "outputs": [],
   "source": []
  }
 ],
 "metadata": {
  "kernelspec": {
   "display_name": "Python 3",
   "language": "python",
   "name": "python3"
  },
  "language_info": {
   "codemirror_mode": {
    "name": "ipython",
    "version": 3
   },
   "file_extension": ".py",
   "mimetype": "text/x-python",
   "name": "python",
   "nbconvert_exporter": "python",
   "pygments_lexer": "ipython3",
   "version": "3.6.10"
  }
 },
 "nbformat": 4,
 "nbformat_minor": 4
}
